{
 "cells": [
  {
   "cell_type": "code",
   "execution_count": null,
   "id": "efd5a002",
   "metadata": {},
   "outputs": [],
   "source": [
    "from collections import defaultdict\n",
    "\n",
    "# Initialize a dictionary to store term frequencies\n",
    "term_freqs = defaultdict(int)\n",
    "\n",
    "# Calculate term frequencies across the entire corpus\n",
    "for doc in bow_corpus:\n",
    "    for term_id, freq in doc:\n",
    "        term_freqs[term_id] += freq\n",
    "\n",
    "# Get the top 10 terms by frequency\n",
    "top_10_terms = sorted(term_freqs.items(), key=lambda x: x[1], reverse=True)[:50]\n",
    "\n",
    "# Display the terms with their frequencies\n",
    "top_10_terms_overall = [(dictionary[term_id], freq) for term_id, freq in top_10_terms]\n",
    "top_10_terms_overall"
   ]
  },
  {
   "cell_type": "code",
   "execution_count": null,
   "id": "84fef0cd",
   "metadata": {},
   "outputs": [],
   "source": [
    "# Initialize a dictionary to store unique term frequencies for each `campo analisi`\n",
    "campo_unique_terms = defaultdict(lambda: defaultdict(int))\n",
    "\n",
    "# Iterate over the documents and their `campo analisi`\n",
    "for index, row in combined_texts_preprocessed.iterrows():\n",
    "    campo_analisi = row['Campo_analisi']\n",
    "    doc_bow = bow_corpus[index]\n",
    "    for term_id, freq in doc_bow:\n",
    "        campo_unique_terms[campo_analisi][term_id] += freq\n",
    "\n",
    "# Find the top 10 unique terms for each `campo analisi`\n",
    "top_10_unique_terms_by_campo = {}\n",
    "\n",
    "for campo_analisi, term_dict in campo_unique_terms.items():\n",
    "    sorted_terms = sorted(term_dict.items(), key=lambda x: x[1], reverse=True)\n",
    "    top_10_unique_terms = [(dictionary[term_id], freq) for term_id, freq in sorted_terms[:20]]\n",
    "    top_10_unique_terms_by_campo[campo_analisi] = top_10_unique_terms\n",
    "\n",
    "top_10_unique_terms_by_campo\n"
   ]
  },
  {
   "cell_type": "code",
   "execution_count": null,
   "id": "332ade7a",
   "metadata": {},
   "outputs": [],
   "source": [
    "# Initialize a dictionary to store term frequencies for each `campo analisi`\n",
    "campo_term_freqs = defaultdict(lambda: defaultdict(int))\n",
    "\n",
    "# Calculate term frequencies within each `campo analisi`\n",
    "for index, row in combined_texts_preprocessed.iterrows():\n",
    "    campo_analisi = row['Campo_analisi']\n",
    "    doc_bow = bow_corpus[index]\n",
    "    for term_id, freq in doc_bow:\n",
    "        campo_term_freqs[campo_analisi][term_id] += freq\n",
    "\n",
    "# Find the top 10 terms for each `campo analisi`\n",
    "top_10_terms_by_campo = {}\n",
    "\n",
    "for campo_analisi, term_dict in campo_term_freqs.items():\n",
    "    sorted_terms = sorted(term_dict.items(), key=lambda x: x[1], reverse=True)\n",
    "    top_10_terms = [(dictionary[term_id], freq) for term_id, freq in sorted_terms[:10]]\n",
    "    top_10_terms_by_campo[campo_analisi] = top_10_terms\n",
    "\n",
    "top_10_terms_by_campo\n"
   ]
  },
  {
   "cell_type": "code",
   "execution_count": null,
   "id": "c2aafe4e",
   "metadata": {},
   "outputs": [],
   "source": [
    "# Group by 'campo analisi' and aggregate the original texts\n",
    "grouped_df = combined_texts_preprocessed.groupby('Campo_analisi')['original_text_partial'].apply(lambda texts: ' '.join(texts)).reset_index()\n",
    "\n",
    "# Rename the columns for clarity\n",
    "grouped_df.columns = ['Campo_analisi', 'combined_texts']\n",
    "\n",
    "# Display the first few rows of the grouped DataFrame\n",
    "grouped_df\n"
   ]
  },
  {
   "cell_type": "code",
   "execution_count": null,
   "id": "5e4fa290",
   "metadata": {},
   "outputs": [],
   "source": [
    "import re\n",
    "\n",
    "specific_campo_analisi = 'cultura'\n",
    "sentences_with_terms = []\n",
    "\n",
    "# Iterate through the grouped DataFrame\n",
    "for index, row in grouped_df.iterrows():\n",
    "    campo = row['Campo_analisi']\n",
    "    combined_text = row['combined_texts']\n",
    "\n",
    "    # Check if the campo is 'cultura'\n",
    "    if campo == specific_campo_analisi:\n",
    "        terms = [term[0] for term in top_10_terms_by_campo[campo]]  # Extract only the term (not the frequency)\n",
    "\n",
    "        # Split the combined text into sentences\n",
    "        sentences = re.split(r'(?<=[.!?]) +', combined_text)\n",
    "\n",
    "        # Search for sentences containing any of the terms\n",
    "        for term in terms:\n",
    "            for sentence in sentences:\n",
    "                if term in sentence:\n",
    "                    sentences_with_terms.append(sentence)\n",
    "\n",
    "# Display the sentences containing the terms for campo 'cultura'\n",
    "print(f\"Sentences in campo analisi '{specific_campo_analisi}':\")\n",
    "for sentence in sentences_with_terms:\n",
    "    print(f\"- {sentence}\")"
   ]
  }
 ],
 "metadata": {
  "kernelspec": {
   "display_name": "Python 3 (ipykernel)",
   "language": "python",
   "name": "python3"
  },
  "language_info": {
   "codemirror_mode": {
    "name": "ipython",
    "version": 3
   },
   "file_extension": ".py",
   "mimetype": "text/x-python",
   "name": "python",
   "nbconvert_exporter": "python",
   "pygments_lexer": "ipython3",
   "version": "3.11.5"
  }
 },
 "nbformat": 4,
 "nbformat_minor": 5
}
